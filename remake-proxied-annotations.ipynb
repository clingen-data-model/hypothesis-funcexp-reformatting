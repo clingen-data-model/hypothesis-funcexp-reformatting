{
 "cells": [
  {
   "cell_type": "markdown",
   "metadata": {},
   "source": [
    "# Generate new annotations when the original went to a URL proxied through the UNC library's proxy\n",
    "\n",
    "Unfortunately, I don't know that there is any way to update the existing annotations except by the person who made them in the first place...\n",
    "\n",
    "You probably don't need to use this-- it is here to clean up some older example data, and I'm including it in the repo as an example.\n",
    "\n",
    "**Note**: In order to use this, you have to have a hypothes.is API token with permissions to access the relevant hypothes.is group. It should be included in a file called \"token\" as a single line."
   ]
  },
  {
   "cell_type": "code",
   "execution_count": null,
   "metadata": {},
   "outputs": [],
   "source": [
    "import requests\n",
    "import yaml\n",
    "import os\n",
    "import re\n",
    "import json"
   ]
  },
  {
   "cell_type": "code",
   "execution_count": null,
   "metadata": {},
   "outputs": [],
   "source": [
    "token = open('token').read().rstrip()\n",
    "api_endpoint = 'https://hypothes.is/api'\n",
    "group = 'DRL6xW1v'\n",
    "\n",
    "proxy_host = '.libproxy.lib.unc.edu'\n",
    "\n",
    "fields_to_keep = 'uri text tags group permissions target document references'.split()"
   ]
  },
  {
   "cell_type": "code",
   "execution_count": null,
   "metadata": {},
   "outputs": [],
   "source": [
    "def search_for_annotations(querydata, token=token):\n",
    "    '''Fetches, using the already-defined token and handling pagination'''\n",
    "    # FIXME: search_after is described as more efficient in the API docs, but I don't know if it handles timestamp collisions\n",
    "    fetched = []\n",
    "    while True:\n",
    "        response = requests.post(api_endpoint + '/search',\n",
    "                            data=querydata,\n",
    "                            headers={'Authorization': 'Bearer %s'%token}).json()\n",
    "        fetched += response['rows']\n",
    "        if response['total'] == len(fetched):\n",
    "            return fetched\n",
    "        querydata['offset'] = len(fetched)"
   ]
  },
  {
   "cell_type": "code",
   "execution_count": null,
   "metadata": {},
   "outputs": [],
   "source": [
    "annotations_to_replace = search_for_annotations({'group': group, 'uri.parts': proxy_host})"
   ]
  },
  {
   "cell_type": "code",
   "execution_count": null,
   "metadata": {},
   "outputs": [],
   "source": [
    "def remove_unc_libproxy_from_url(url):\n",
    "    spliturl = url.split(proxy_host, 1)\n",
    "    if len(spliturl) == 1:\n",
    "        return spliturl[0]\n",
    "    return spliturl[0].replace('-', '.') + spliturl[1]"
   ]
  },
  {
   "cell_type": "code",
   "execution_count": null,
   "metadata": {},
   "outputs": [],
   "source": [
    "def fix_proxied_annotation(old_annotation):\n",
    "    ann = {k: old_annotation[k] for k in fields_to_keep if k in old_annotation}\n",
    "    ann['uri'] = remove_unc_libproxy_from_url(ann['uri'])\n",
    "    for t in ann['target']:\n",
    "        if proxy_host in t['source']:\n",
    "            t['source'] = remove_unc_libproxy_from_url(t['source'])\n",
    "    ann.setdefault('references', list()).append(old_annotation['id'])\n",
    "    return ann"
   ]
  },
  {
   "cell_type": "code",
   "execution_count": null,
   "metadata": {},
   "outputs": [],
   "source": [
    "for a in annotations_to_replace:\n",
    "    post_response = requests.post(api_endpoint + '/annotations',\n",
    "              json = fix_proxied_annotation(a),\n",
    "              headers={'Authorization': 'Bearer %s'%token})\n",
    "    print(post_response)\n",
    "    print(post_response.json()['id'])"
   ]
  },
  {
   "cell_type": "code",
   "execution_count": null,
   "metadata": {},
   "outputs": [],
   "source": []
  }
 ],
 "metadata": {
  "kernelspec": {
   "display_name": "Python 3",
   "language": "python",
   "name": "python3"
  },
  "language_info": {
   "codemirror_mode": {
    "name": "ipython",
    "version": 3
   },
   "file_extension": ".py",
   "mimetype": "text/x-python",
   "name": "python",
   "nbconvert_exporter": "python",
   "pygments_lexer": "ipython3",
   "version": "3.7.8"
  }
 },
 "nbformat": 4,
 "nbformat_minor": 4
}
