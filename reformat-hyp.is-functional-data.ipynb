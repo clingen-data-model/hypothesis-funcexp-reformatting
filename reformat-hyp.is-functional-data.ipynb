{
 "cells": [
  {
   "cell_type": "code",
   "execution_count": 1,
   "metadata": {},
   "outputs": [],
   "source": [
    "import json\n",
    "import yaml"
   ]
  },
  {
   "cell_type": "code",
   "execution_count": 2,
   "metadata": {},
   "outputs": [],
   "source": [
    "with open('downloaded_data/PMID9535769.json', 'rt') as jsonin:\n",
    "    annotations = json.load(jsonin)['rows']"
   ]
  },
  {
   "cell_type": "code",
   "execution_count": 3,
   "metadata": {},
   "outputs": [],
   "source": [
    "# annotations"
   ]
  },
  {
   "cell_type": "code",
   "execution_count": 4,
   "metadata": {},
   "outputs": [],
   "source": [
    "def fix_funcexp(tags):\n",
    "    # until we fix/standardize these tags...\n",
    "    for t in tags:\n",
    "        if t.startswith('FuncExp'):\n",
    "            v = t.split(':')[1]\n",
    "            if v.endswith('Results'):\n",
    "                v = v[:-7]\n",
    "            t = 'FuncExp:%s'%v\n",
    "        yield t"
   ]
  },
  {
   "cell_type": "code",
   "execution_count": 5,
   "metadata": {},
   "outputs": [],
   "source": [
    "def tags2dict(tags):\n",
    "    # FIXME: should be a multidict (e.g., if multiple materials are used)\n",
    "    return dict(t.split(':') if ':' in t else (t,None) for t in fix_funcexp(tags))"
   ]
  },
  {
   "cell_type": "code",
   "execution_count": 24,
   "metadata": {},
   "outputs": [],
   "source": [
    "def show_annotation(ann):\n",
    "    tagdict = tags2dict(ann['tags'])\n",
    "    print('-------')\n",
    "    print(\"CGType: %s\"%tagdict.get('CGType', ''))\n",
    "    print('tags:')\n",
    "    print('\\t' + '\\n\\t'.join(tagdict))\n",
    "    print(ann['text'])"
   ]
  },
  {
   "cell_type": "code",
   "execution_count": 34,
   "metadata": {},
   "outputs": [
    {
     "name": "stdout",
     "output_type": "stream",
     "text": [
      "{'Variant': '1', 'ClinVarID': '188728', 'CGType': 'ExperimentResult', 'FuncExp': '1'}\n",
      "{'Variant': '5', 'ClinVarID': '550327', 'CGType': 'ExperimentResult', 'FuncExp': '1'}\n",
      "{'Variant': '2', 'ClinVarID': '188902', 'CGType': 'ExperimentResult', 'FuncExp': '1'}\n",
      "{'Variant': '3', 'ClinVarID': '188773', 'CGType': 'ExperimentResult', 'FuncExp': '1'}\n",
      "{'Variant': '4', 'ClinVarID': '371126', 'CGType': 'ExperimentResult', 'FuncExp': '1'}\n",
      "{'ValidationControl': 'Pathogenic', 'CAID': 'CA401367186', 'CGType': 'ExperimentResult', 'FuncExp': '1'}\n",
      "{'ClinVarID': '265160', 'ValidationControl': 'Pathogenic', 'CGType': 'ExperimentResult', 'FuncExp': '1'}\n",
      "{'ClinVarID': '4030', 'ValidationControl': 'Benign', 'CGType': 'ExperimentResult', 'FuncExp': '1'}\n"
     ]
    }
   ],
   "source": [
    "paper_variants = {}\n",
    "paper_variants_by_external_id = {}\n",
    "paper_experiments = {}\n",
    "paper_results_by_allele = {}\n",
    "paper_results_by_experiment = {}\n",
    "for a in annotations:\n",
    "    td = tags2dict(a['tags'])\n",
    "    a['tagdict'] = td\n",
    "    cgtype = td.get('CGType', None)\n",
    "    a['cgtype'] = cgtype\n",
    "    if 'VariantID' == cgtype:\n",
    "        try:\n",
    "            variant = {\n",
    "                'label': a['text'].strip(),\n",
    "                'tags': td\n",
    "            }\n",
    "            if 'Variant' in td:\n",
    "                paper_variants['Variant:%s'%td['Variant']] = variant\n",
    "            if 'CAID' in td:\n",
    "                paper_variants['CAID:%s'%td['CAID']] = variant\n",
    "            if 'ClinVarID' in td:\n",
    "                paper_variants['ClinVarID:%s'%td['ClinVarID']] = variant\n",
    "        except KeyError:\n",
    "            print(\"No text for variant:\")\n",
    "            show_annotation(a)\n",
    "    elif 'ExperimentDescription' == cgtype:\n",
    "        paper_experiments[td['FuncExp']] = {\n",
    "            'assayType': 'BAO:%s'%td.get('BAO', ''),\n",
    "            'assayMaterial': 'CLO:%s'%td['CLO'],\n",
    "            'description': a['text'].strip(),\n",
    "            'tags': td\n",
    "        }\n",
    "    elif 'ExperimentResult' == cgtype:\n",
    "        # hack for now-- fix the tags!\n",
    "        try:\n",
    "            experiment = td['FuncExp']\n",
    "        except KeyError:\n",
    "            experiment = td['FuncExpResults']\n",
    "        print(td)\n",
    "        expresult = {\n",
    "            'description': a['text'].strip()\n",
    "        }\n",
    "        # FIXME: handle when different id is used for variant in different annotations\n",
    "        if 'Variant' in td:\n",
    "            paper_results_by_allele['Variant:%s'%td['Variant']] = expresult\n",
    "        elif 'CAID' in td:\n",
    "            paper_results_by_allele['CAID:%s'%td['CAID']] = expresult\n",
    "        elif 'ClinVarID' in td:\n",
    "            paper_results_by_allele['ClinVarID:%s'%td['ClinVarID']] = expresult\n",
    "        paper_results_by_experiment[experiment] = expresult\n",
    "\n"
   ]
  },
  {
   "cell_type": "code",
   "execution_count": 37,
   "metadata": {
    "scrolled": true
   },
   "outputs": [
    {
     "name": "stdout",
     "output_type": "stream",
     "text": [
      "CAID:CA116612: &id006\n",
      "  label: NM_000152.3:c.2065G>A (Glu689Lys)\n",
      "  tags:\n",
      "    CAID: CA116612\n",
      "    CGType: VariantID\n",
      "    ClinVarID: '4030'\n",
      "    ValidationControl: Benign\n",
      "CAID:CA273892: &id001\n",
      "  label: NM_000152.3:c.1933G>A (Asp645Asn)\n",
      "  tags:\n",
      "    CAID: CA273892\n",
      "    CGType: VariantID\n",
      "    ClinVarID: '188728'\n",
      "    Variant: '1'\n",
      "CAID:CA273939: &id002\n",
      "  label: NM_000152.3:c.2014C>T (Arg672Trp)\n",
      "  tags:\n",
      "    CAID: CA273939\n",
      "    CGType: VariantID\n",
      "    ClinVarID: '188773'\n",
      "    Variant: '3'\n",
      "CAID:CA274102: &id003\n",
      "  label: NM_000152.3:c.1942G>A (Gly648Ser)\n",
      "  tags:\n",
      "    CAID: CA274102\n",
      "    CGType: VariantID\n",
      "    ClinVarID: '188902'\n",
      "    Variant: '2'\n",
      "CAID:CA401367186:\n",
      "  label: NM_000152.3:c.1555A>G (Met519Val)\n",
      "  tags:\n",
      "    CAID: CA401367186\n",
      "    CGType: VariantID\n",
      "    ValidationControl: Pathogenic\n",
      "CAID:CA8815554: &id007\n",
      "  label: NM_000152.3:c.1941C>G (Cys647Trp)\n",
      "  tags:\n",
      "    CAID: CA8815554\n",
      "    CGType: VariantID\n",
      "    ClinVarID: '550327'\n",
      "    Variant: '5'\n",
      "CAID:CA8815566: &id005\n",
      "  label: NM_000152.3:c.2015G>A (Arg672Gln)\n",
      "  tags:\n",
      "    CAID: CA8815566\n",
      "    CGType: VariantID\n",
      "    ClinVarID: '371126'\n",
      "    Variant: '4'\n",
      "CAID:CA8815665: &id004\n",
      "  label: NM_000152.3:c.2238G>C (Trp746Cys)\n",
      "  tags:\n",
      "    CAID: CA8815665\n",
      "    CGType: VariantID\n",
      "    ClinVarID: '265160'\n",
      "    ValidationControl: Pathogenic\n",
      "ClinVarID:188728: *id001\n",
      "ClinVarID:188773: *id002\n",
      "ClinVarID:188902: *id003\n",
      "ClinVarID:265160: *id004\n",
      "ClinVarID:371126: *id005\n",
      "ClinVarID:4030: *id006\n",
      "ClinVarID:550327: *id007\n",
      "Variant:1: *id001\n",
      "Variant:2: *id003\n",
      "Variant:3: *id002\n",
      "Variant:4: *id005\n",
      "Variant:5: *id007\n",
      "\n"
     ]
    }
   ],
   "source": [
    "print(yaml.dump(paper_variants))"
   ]
  },
  {
   "cell_type": "code",
   "execution_count": 38,
   "metadata": {},
   "outputs": [
    {
     "name": "stdout",
     "output_type": "stream",
     "text": [
      "'1':\n",
      "  assayMaterial: CLO:0025608\n",
      "  assayType: BAO:0002994\n",
      "  description: \"**Experiment 1 Description**\\n\\n**GeneralClass**: BAO:0002994\\n\\n\\\n",
      "    **MaterialUsed**: TR4912 (derived from GM4912 -CLO:0025608)\\n\\n**AssayDescription**:\\\n",
      "    \\ TR4912 cells (SV40 transformed acid alpha-glucosidase deficient cell line) were\\\n",
      "    \\ transfected with control and variant cDNA. Cells were harvested after 48 hours\\\n",
      "    \\ and the enzyme activity was measured using the 4-MUG substrate\\n\\n**AssayReadOutDescription**:\\\n",
      "    \\ enzyme activity +/- S.E.M.\\n\\n**AssayReadOutValues**: Nmol/min/gm protein\\n\\n\\\n",
      "    **AssayReadOutNormal**: similar to wild type, 2641 +/- 372\\n\\n**AssayReadOutAbormal**:\\\n",
      "    \\ similar to negative control, 0.62 +/- 0.14\\n\\n**AssayReadOutIndeterminate**:\\\n",
      "    \\ unclear results\\n\\n**AssayControlNormalControl**: WT in sense orientation\\n\\n\\\n",
      "    **AssayControlAbnormalControl**: WT in antisense orientation \\n\\n**ValidationControlPathogenic**:\\\n",
      "    \\ 2\\n\\n**ValidationControlBenign**: 1\\n\\n**Replication**: two independent clones\\\n",
      "    \\ for each mutation  was isolated and expressed, except for the 2015G>A  missense\\\n",
      "    \\ mutation where only a single clone was isolated and expressed. Each results\\\n",
      "    \\ is an average of 3-12 enzyme activity values\\n\\n**StatisticalAnalysisDescription**:\\\n",
      "    \\ p=0.02; statistically different from mean enzyme expression of antisense normal\\\n",
      "    \\ cDNA. Significance determined with unpaired Welch\\u2019s 2 tailed t test\"\n",
      "  tags:\n",
      "    AssayReadOutType: Quantitative\n",
      "    BAO: 0002994\n",
      "    CGType: ExperimentDescription\n",
      "    CLO: 0025608\n",
      "    FuncExp: '1'\n",
      "    MONDO: 0009290\n",
      "\n"
     ]
    }
   ],
   "source": [
    "print(yaml.dump(paper_experiments))"
   ]
  },
  {
   "cell_type": "code",
   "execution_count": 40,
   "metadata": {},
   "outputs": [
    {
     "name": "stdout",
     "output_type": "stream",
     "text": [
      "CAID:CA401367186:\n",
      "  description: '**Pathogenic Control Experiment 1 Result**\n",
      "\n",
      "\n",
      "    M519V\n",
      "\n",
      "\n",
      "    **AssayResult**: 22.10 +/- 3.5\n",
      "\n",
      "\n",
      "    **ExperimentResultAssertion**: abnormal'\n",
      "ClinVarID:265160:\n",
      "  description: '**Pathogenic Control Experiment 1 Result**\n",
      "\n",
      "\n",
      "    W746C\n",
      "\n",
      "\n",
      "    **AssayResult**: 352.0 +/- 78.1\n",
      "\n",
      "\n",
      "    **ExperimentResultAssertion**: abnormal'\n",
      "ClinVarID:4030:\n",
      "  description: '**Benign Control Experiment 1 Result**\n",
      "\n",
      "\n",
      "    E689K\n",
      "\n",
      "\n",
      "    **AssayResult**: 1906.0 +/- 38.1\n",
      "\n",
      "\n",
      "    **ExperimentResultAssertion**: normal'\n",
      "Variant:1:\n",
      "  description: '**Variant 1 Experiment 1 Result**\n",
      "\n",
      "\n",
      "    D645N\n",
      "\n",
      "\n",
      "    **AssayResult**: 0.49 +/- 0.10\n",
      "\n",
      "\n",
      "    **ExperimentResultAssertion**: abnormal'\n",
      "Variant:2:\n",
      "  description: '**Variant 2 Experiment 1 Result**\n",
      "\n",
      "\n",
      "    G648S\n",
      "\n",
      "\n",
      "    **AssayResult**: 0.68 +/- 0.12\n",
      "\n",
      "\n",
      "    **ExperimentResultAssertion**: abnormal'\n",
      "Variant:3:\n",
      "  description: '**Variant 3 Experiment 1 Result**\n",
      "\n",
      "\n",
      "    R672W\n",
      "\n",
      "\n",
      "    **AssayResult**: 1.57 +/- 0.34\n",
      "\n",
      "\n",
      "    **ExperimentResultAssertion**: abnormal'\n",
      "Variant:4:\n",
      "  description: '**Variant 4 Experiment 1 Resul\n",
      "\n",
      "\n",
      "    R672Q\n",
      "\n",
      "\n",
      "    **AssayResult**: 0.63 +/- 0.19\n",
      "\n",
      "\n",
      "    **ExperimentResultAssertion**: abnormal'\n",
      "Variant:5:\n",
      "  description: '**Variant 5 Experiment 1 Result**\n",
      "\n",
      "\n",
      "    C647W\n",
      "\n",
      "\n",
      "    **AssayResult**: 0.84 +/- 0.52\n",
      "\n",
      "\n",
      "    **ExperimentResultAssertion**: abnormal'\n",
      "\n"
     ]
    }
   ],
   "source": [
    "print(yaml.dump(paper_results_by_allele))"
   ]
  },
  {
   "cell_type": "code",
   "execution_count": 41,
   "metadata": {},
   "outputs": [
    {
     "name": "stdout",
     "output_type": "stream",
     "text": [
      "'1':\n",
      "  description: '**Benign Control Experiment 1 Result**\n",
      "\n",
      "\n",
      "    E689K\n",
      "\n",
      "\n",
      "    **AssayResult**: 1906.0 +/- 38.1\n",
      "\n",
      "\n",
      "    **ExperimentResultAssertion**: normal'\n",
      "\n"
     ]
    }
   ],
   "source": [
    "print(yaml.dump(paper_results_by_experiment))"
   ]
  },
  {
   "cell_type": "code",
   "execution_count": 8,
   "metadata": {},
   "outputs": [
    {
     "data": {
      "text/plain": [
       "{'1': {'description': '**Variant 1 Experiment 1 Result**\\n\\nD645N\\n\\n**AssayResult**: 0.49 +/- 0.10\\n\\n**ExperimentResultAssertion**: abnormal'},\n",
       " '5': {'description': '**Variant 5 Experiment 1 Result**\\n\\nC647W\\n\\n**AssayResult**: 0.84 +/- 0.52\\n\\n**ExperimentResultAssertion**: abnormal'},\n",
       " '2': {'description': '**Variant 2 Experiment 1 Result**\\n\\nG648S\\n\\n**AssayResult**: 0.68 +/- 0.12\\n\\n**ExperimentResultAssertion**: abnormal'},\n",
       " '3': {'description': '**Variant 3 Experiment 1 Result**\\n\\nR672W\\n\\n**AssayResult**: 1.57 +/- 0.34\\n\\n**ExperimentResultAssertion**: abnormal'},\n",
       " '4': {'description': '**Variant 4 Experiment 1 Resul\\n\\nR672Q\\n\\n**AssayResult**: 0.63 +/- 0.19\\n\\n**ExperimentResultAssertion**: abnormal'}}"
      ]
     },
     "execution_count": 8,
     "metadata": {},
     "output_type": "execute_result"
    }
   ],
   "source": [
    "print(yaml.dump({\n",
    "    'variants': paper_variants,\n",
    "    'experiments': paper_experiments,\n",
    "    'by_allele': paper_results_by_allele,\n",
    "    'by_experiment': paper_results_by_experiment\n",
    "}))\n",
    "\n",
    "# link together what we can...\n",
    "for v in paper_variants:\n",
    "    paper_results_by_allele[v]['evaluatedVariant'] = paper_variants[v]\n",
    "for e in paper_experiments:\n",
    "    paper_results_by_experiment[e]['experimentDescription'] = paper_experiments[e]"
   ]
  },
  {
   "cell_type": "code",
   "execution_count": 36,
   "metadata": {},
   "outputs": [
    {
     "name": "stdout",
     "output_type": "stream",
     "text": [
      "CAID:CA116612: &id006\n",
      "  label: NM_000152.3:c.2065G>A (Glu689Lys)\n",
      "  tags:\n",
      "    CAID: CA116612\n",
      "    CGType: VariantID\n",
      "    ClinVarID: '4030'\n",
      "    ValidationControl: Benign\n",
      "CAID:CA273892: &id001\n",
      "  label: NM_000152.3:c.1933G>A (Asp645Asn)\n",
      "  tags:\n",
      "    CAID: CA273892\n",
      "    CGType: VariantID\n",
      "    ClinVarID: '188728'\n",
      "    Variant: '1'\n",
      "CAID:CA273939: &id002\n",
      "  label: NM_000152.3:c.2014C>T (Arg672Trp)\n",
      "  tags:\n",
      "    CAID: CA273939\n",
      "    CGType: VariantID\n",
      "    ClinVarID: '188773'\n",
      "    Variant: '3'\n",
      "CAID:CA274102: &id003\n",
      "  label: NM_000152.3:c.1942G>A (Gly648Ser)\n",
      "  tags:\n",
      "    CAID: CA274102\n",
      "    CGType: VariantID\n",
      "    ClinVarID: '188902'\n",
      "    Variant: '2'\n",
      "CAID:CA401367186:\n",
      "  label: NM_000152.3:c.1555A>G (Met519Val)\n",
      "  tags:\n",
      "    CAID: CA401367186\n",
      "    CGType: VariantID\n",
      "    ValidationControl: Pathogenic\n",
      "CAID:CA8815554: &id007\n",
      "  label: NM_000152.3:c.1941C>G (Cys647Trp)\n",
      "  tags:\n",
      "    CAID: CA8815554\n",
      "    CGType: VariantID\n",
      "    ClinVarID: '550327'\n",
      "    Variant: '5'\n",
      "CAID:CA8815566: &id005\n",
      "  label: NM_000152.3:c.2015G>A (Arg672Gln)\n",
      "  tags:\n",
      "    CAID: CA8815566\n",
      "    CGType: VariantID\n",
      "    ClinVarID: '371126'\n",
      "    Variant: '4'\n",
      "CAID:CA8815665: &id004\n",
      "  label: NM_000152.3:c.2238G>C (Trp746Cys)\n",
      "  tags:\n",
      "    CAID: CA8815665\n",
      "    CGType: VariantID\n",
      "    ClinVarID: '265160'\n",
      "    ValidationControl: Pathogenic\n",
      "ClinVarID:188728: *id001\n",
      "ClinVarID:188773: *id002\n",
      "ClinVarID:188902: *id003\n",
      "ClinVarID:265160: *id004\n",
      "ClinVarID:371126: *id005\n",
      "ClinVarID:4030: *id006\n",
      "ClinVarID:550327: *id007\n",
      "Variant:1: *id001\n",
      "Variant:2: *id003\n",
      "Variant:3: *id002\n",
      "Variant:4: *id005\n",
      "Variant:5: *id007\n",
      "\n"
     ]
    }
   ],
   "source": [
    "print(yaml.dump(paper_variants))"
   ]
  },
  {
   "cell_type": "code",
   "execution_count": null,
   "metadata": {},
   "outputs": [],
   "source": []
  },
  {
   "cell_type": "code",
   "execution_count": null,
   "metadata": {},
   "outputs": [],
   "source": []
  }
 ],
 "metadata": {
  "kernelspec": {
   "display_name": "Python 3",
   "language": "python",
   "name": "python3"
  },
  "language_info": {
   "codemirror_mode": {
    "name": "ipython",
    "version": 3
   },
   "file_extension": ".py",
   "mimetype": "text/x-python",
   "name": "python",
   "nbconvert_exporter": "python",
   "pygments_lexer": "ipython3",
   "version": "3.7.5"
  }
 },
 "nbformat": 4,
 "nbformat_minor": 2
}
