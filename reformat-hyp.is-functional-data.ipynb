{
 "cells": [
  {
   "cell_type": "code",
   "execution_count": null,
   "metadata": {},
   "outputs": [],
   "source": [
    "import json\n",
    "import yaml\n",
    "import re\n",
    "import collections\n",
    "import IPython.display as display\n",
    "from jinja2 import Template"
   ]
  },
  {
   "cell_type": "code",
   "execution_count": null,
   "metadata": {},
   "outputs": [],
   "source": [
    "# a little magic-- use literal '|' form for multiline strings or long strings in yaml\n",
    "yaml.add_representer(str, lambda dumper, data:\n",
    "                     dumper.represent_scalar('tag:yaml.org,2002:str', data, style=\"|\" if '\\n' in data or len(data) > 100 else None))"
   ]
  },
  {
   "cell_type": "code",
   "execution_count": null,
   "metadata": {},
   "outputs": [],
   "source": [
    "with open('downloaded_data/PMID16261627.json', 'rt') as jsonin:\n",
    "    annotations = json.load(jsonin)"
   ]
  },
  {
   "cell_type": "code",
   "execution_count": null,
   "metadata": {},
   "outputs": [],
   "source": [
    "def multidict_constructor(items):\n",
    "    '''Creates a pseudo multidict-- only multidict for the items it gets initially called with.\n",
    "    \n",
    "    Not a true multidict, but easily representable in json/yaml...'''\n",
    "    data = {}\n",
    "    for i in items:\n",
    "        if 2 == len(i):\n",
    "            k,v = i\n",
    "        else:\n",
    "            k,v = i[0], ''\n",
    "        try:\n",
    "            oldv = data[k]\n",
    "            if isinstance(oldv, list):\n",
    "                oldv.append(v)\n",
    "            else:\n",
    "                data[k] = [oldv, v]\n",
    "        except KeyError:\n",
    "            data[k] = v\n",
    "    return data"
   ]
  },
  {
   "cell_type": "code",
   "execution_count": null,
   "metadata": {},
   "outputs": [],
   "source": [
    "def tags2dict(tags):\n",
    "    return multidict_constructor(t.split(':', 1) if ':' in t else (t,None) for t in tags)\n",
    "\n",
    "def annotation2dict(annotation_text):\n",
    "    return multidict_constructor(re.split(r'\\*\\*:\\s?', x.lstrip('**'), 1) for x in annotation_text.split('\\n\\n**') if '**:' in x)"
   ]
  },
  {
   "cell_type": "code",
   "execution_count": null,
   "metadata": {},
   "outputs": [],
   "source": [
    "def show_annotation(ann):\n",
    "    tagdict = tags2dict(ann['tags'])\n",
    "    print('-------')\n",
    "    print(\"CGType: %s\"%tagdict.get('CGType', ''))\n",
    "    print('tags:')\n",
    "    print('\\t' + '\\n\\t'.join(tagdict.data))\n",
    "    print(ann['text'])"
   ]
  },
  {
   "cell_type": "code",
   "execution_count": null,
   "metadata": {},
   "outputs": [],
   "source": [
    "manuscript_variants = []\n",
    "manuscript_variants_by_id = {}\n",
    "manuscript_experiments = {}\n",
    "manuscript_results = []\n",
    "\n",
    "for a in annotations:\n",
    "    td = tags2dict(a['tags'])\n",
    "    a['tagdict'] = td\n",
    "    cgtype = td.get('CGType', None)\n",
    "    a['cgtype'] = cgtype\n",
    "    try:\n",
    "        text = a['text'].strip()\n",
    "    except KeyError:\n",
    "        print(\"WARNING: annotation without text:\")\n",
    "        show_annotation(a)\n",
    "        text = ''\n",
    "    attributes = annotation2dict(text)\n",
    "    record = {\n",
    "        'tags': td,\n",
    "        'annotationLinks': a['links']\n",
    "    }\n",
    "    \n",
    "    if len(attributes) == 0:\n",
    "        record['text'] = text\n",
    "    else:\n",
    "        record.update(attributes)\n",
    "\n",
    "    if 'Manuscript' == cgtype:\n",
    "        manuscript_general_info = record\n",
    "\n",
    "    elif 'Variant' == cgtype:\n",
    "        manuscript_variants.append(record)\n",
    "        for namespace in ('Variant', 'CAID', 'ClinVarID'):\n",
    "            if namespace in td:\n",
    "                identifier = '%s:%s'%(namespace, td[namespace])\n",
    "                if identifier in manuscript_variants_by_id:\n",
    "                    print(\"WARNING: possibly redefining variant, identifier %s already seen\"%identifier)\n",
    "                    manuscript_variants_by_id[identifier].update(record)\n",
    "                else:\n",
    "                    manuscript_variants_by_id[identifier] = record\n",
    "\n",
    "    elif 'FunctionalAssay' == cgtype:\n",
    "        record.update({\n",
    "            'assayType': 'BAO:%s'%td.get('BAO', ''),\n",
    "            'assayMaterial': 'CLO:%s'%td['CLO'],\n",
    "            'results': []\n",
    "        })\n",
    "        manuscript_experiments[td['FuncAssay']] = record\n",
    "\n",
    "    elif 'FunctionalAssayResult' == cgtype:\n",
    "        manuscript_results.append(record)"
   ]
  },
  {
   "cell_type": "code",
   "execution_count": null,
   "metadata": {},
   "outputs": [],
   "source": [
    "# Link what we can\n",
    "\n",
    "manuscript_results_by_variant = collections.defaultdict(list)\n",
    "\n",
    "# first go through results and lookup variant and experiment\n",
    "for r in manuscript_results:\n",
    "    tags = r['tags']\n",
    "    r['experiment'] = manuscript_experiments[tags['FuncAssay']]\n",
    "    r['source'] = manuscript_general_info['tags']['PMID']\n",
    "    for namespace in ('Variant', 'CAID', 'ClinVarID'):\n",
    "        if namespace in tags:\n",
    "            v = manuscript_variants_by_id['%s:%s'%(namespace, tags[namespace])]\n",
    "            r['evaluatedVariantRecord'] = v\n",
    "            # prefer CAID, accept ClinVarID\n",
    "            v_identifier = next(('%s:%s'%(k, v['tags'][k])\n",
    "                                 for k in ('CAID', 'ClinVarID')\n",
    "                                 if k in v['tags']), '')\n",
    "            if '' != v_identifier:\n",
    "                r['evaluatedVariant'] = v_identifier\n",
    "                manuscript_results_by_variant[v_identifier].append(r)\n",
    "            else:\n",
    "                print('ERROR: %s does not have an acceptable external identifier'%v)\n",
    "            break # only use the first of the namespaces found in tags of result\n",
    "    # could do this, but it makes the data structure have loops...\n",
    "    r['experiment']['results'].append(r)"
   ]
  },
  {
   "cell_type": "code",
   "execution_count": null,
   "metadata": {},
   "outputs": [],
   "source": [
    "manuscript_experiments['1']"
   ]
  },
  {
   "cell_type": "code",
   "execution_count": null,
   "metadata": {},
   "outputs": [],
   "source": [
    "print(yaml.dump(manuscript_experiments))"
   ]
  },
  {
   "cell_type": "code",
   "execution_count": null,
   "metadata": {},
   "outputs": [],
   "source": [
    "manuscript_results[0]"
   ]
  },
  {
   "cell_type": "code",
   "execution_count": null,
   "metadata": {},
   "outputs": [],
   "source": [
    "def render_result(r, recurse=True):\n",
    "    h = '<dl>'\n",
    "    #h = '<html>\\n'\n",
    "    for (k,v) in r.items():\n",
    "        if k == 'tags':\n",
    "            h += '<dt>Tags</dt><dd>'\n",
    "            for tk, tv in v.items():\n",
    "                if tk in ('Variant', 'FuncAssay'):\n",
    "                    continue\n",
    "                h += '      <li>%s:%s</li>\\n'%(tk,tv)\n",
    "            h += '    </dd>\\n'\n",
    "        elif type(v) == str:\n",
    "            h += '  <dt>%s</dt><dd>%s</dd>\\n'%(k, v)\n",
    "        elif recurse:\n",
    "            h += '  <dt>%s</dt>\\n<dd>%s</dd>\\n'%(k, render_result(v, False))\n",
    "    h+= '</dl>'\n",
    "    return(h)\n",
    "\n",
    "def render_assay_result(ar, recurse=True):\n",
    "    h = '<dl>'\n",
    "    ordered_fields = ('evaluatedVariant', 'AssayResult', 'AssayResultAssertion', 'source', 'Comment')\n",
    "    for field in ordered_fields:\n",
    "        if field in ar:\n",
    "            h += '<dt>%s</dt><dd>%s</dd>'%(field[5:] if field.startswith('Assay') else field, ar[field])\n",
    "    h += '<dt>Tags</dt><dd><ul>'\n",
    "    for tk, tv in ar['tags'].items():\n",
    "        if tk in ('Variant', 'FuncAssay'):\n",
    "            continue\n",
    "        h += '<li>%s:%s</li>'%(tk,tv)\n",
    "    h += '</ul></dd>'\n",
    "    for (k,v) in ar.items():\n",
    "        if k in ordered_fields or k == 'tags':\n",
    "            continue\n",
    "        if type(v) == str:\n",
    "            h += '  <dt>%s</dt><dd>%s</dd>\\n'%(k, v)\n",
    "        elif recurse:\n",
    "            h += '  <dt>%s</dt>\\n<dd>%s</dd>\\n'%(k, render_result(v, False))\n",
    "    return(h)"
   ]
  },
  {
   "cell_type": "code",
   "execution_count": null,
   "metadata": {},
   "outputs": [],
   "source": [
    "display.display(display.HTML(render_assay_result(manuscript_results[2], True)))"
   ]
  },
  {
   "cell_type": "code",
   "execution_count": null,
   "metadata": {},
   "outputs": [],
   "source": [
    "manuscript_results_by_variant['CAID:CA395144928']"
   ]
  },
  {
   "cell_type": "code",
   "execution_count": null,
   "metadata": {},
   "outputs": [],
   "source": [
    "variants = [v for v in manuscript_variants_by_id.keys() if v.startswith('CAID') or v.startswith('ClinVarID')]\n",
    "variants"
   ]
  },
  {
   "cell_type": "code",
   "execution_count": null,
   "metadata": {},
   "outputs": [],
   "source": [
    "variant_results_template = Template('''\n",
    "<style> \n",
    "table td, table th, table tr {text-align:left !important; vertical-align: top !important;}\n",
    "</style>\n",
    "{% set v = manuscript_variants_by_id[variant_id] %}\n",
    "<h3>Results for <a href=\"http://reg.clinicalgenome.org/redmine/projects/registry/genboree_registry/by_canonicalid?canonicalid={{ v['tags']['CAID'] }}\">{{ v['tags']['CAID'] }}</a>\n",
    "   {% if 'HGVS' in v %} ({{ v['HGVS'] }}){% endif %}\n",
    "   <a href=\"{{ v['annotationLinks']['html'] }}\">&#128279;</a><h3>\n",
    "{% for assay_result in manuscript_results_by_id[variant_id] %}\n",
    "{% set assay = assay_result['experiment'] %}\n",
    "<div>\n",
    "<table>\n",
    "<tr><td>Result: <a href=\"{{ assay_result['annotationLinks']['html'] }}\">&#128279;</a></td><td>{{ assay_result['AssayResult'] }}</td></tr>\n",
    "<tr><td>Author classification:</td><td>{{ assay_result['AssayResultAssertion'] }}</td></tr>\n",
    "{% if 'Comment' in assay_result %}\n",
    "<tr><td>Comment:</td><td>{{ assay_result['Comment'] }}</td></tr>\n",
    "{% endif %}\n",
    "<tr><td>Assay Information: <a href=\"{{ assay['annotationLinks']['html'] }}\">&#128279;</a></td>\n",
    "    <td>\n",
    "        <table>\n",
    "            <tr><td>Source (PMID):</td><td>\n",
    "                <a href=\"https://pubmed.ncbi.nlm.nih.gov/{{ assay_result['source']  }}/\">{{ assay_result['source'] }}</a></td></tr>\n",
    "            <tr><td>General Class:</td><td>{{ assay['AssayGeneralClass'] }}</td></tr>\n",
    "            <tr><td>Material Used:</td><td>{{ assay['AssayMaterialUsed'] }}</td></tr>\n",
    "            <tr><td>Description:</td><td>{{ assay['AssayDescription'] }}</td></tr>\n",
    "            <tr><td>Statistical analysis description</td><td>{{ assay['StatisticalAnalysisDescription'] }}</td></tr>\n",
    "            <tr><td>Replication:</td><td>{{ assay['Replication'] }}</td></tr>\n",
    "            <tr><td>Readout:</td><td>{{ assay['AssayReadOutDescription'] }}</td></tr>\n",
    "            <tr><td>Ranges:</td><td>\n",
    "                <table>\n",
    "                    <tr><td>Abnormal:</td><td>{{ assay['AssayAbnormalRange'] }}</td></tr>\n",
    "                    <tr><td>Indeterminate:</td><td>{{ assay['AssayIndeterminateRange'] }}</td></tr>\n",
    "                    <tr><td>Normal:</td><td>{{ assay['AssayNormalRange'] }}</td></tr>\n",
    "                </table>\n",
    "            </td></tr>\n",
    "            <tr><td>Validation Controls:</td><td>Pathogenic: {{ assay['ValidationControlPathogenic'] }}<br/>Benign: {{ assay['ValidationControlBenign'] }}</td></tr>\n",
    "        </table>\n",
    "    </td></tr>\n",
    "</table>\n",
    "<hr>\n",
    "</div>\n",
    "{% endfor %}\n",
    "''')\n",
    "\n",
    "def html_for_variant_results(variant_id):\n",
    "    return variant_results_template.render(variant_id=variant_id,\n",
    "                                           manuscript_results_by_id=manuscript_results_by_variant,\n",
    "                                           manuscript_variants_by_id=manuscript_variants_by_id)\n",
    "\n",
    "def show_variant_results(variant_id):\n",
    "    display.display(display.HTML(html_for_variant_results(variant_id)))"
   ]
  },
  {
   "cell_type": "code",
   "execution_count": null,
   "metadata": {},
   "outputs": [],
   "source": [
    "for variant_id in variants:\n",
    "    show_variant_results(variant_id)"
   ]
  },
  {
   "cell_type": "code",
   "execution_count": null,
   "metadata": {},
   "outputs": [],
   "source": []
  }
 ],
 "metadata": {
  "kernelspec": {
   "display_name": "Python 3",
   "language": "python",
   "name": "python3"
  },
  "language_info": {
   "codemirror_mode": {
    "name": "ipython",
    "version": 3
   },
   "file_extension": ".py",
   "mimetype": "text/x-python",
   "name": "python",
   "nbconvert_exporter": "python",
   "pygments_lexer": "ipython3",
   "version": "3.7.8"
  }
 },
 "nbformat": 4,
 "nbformat_minor": 4
}
