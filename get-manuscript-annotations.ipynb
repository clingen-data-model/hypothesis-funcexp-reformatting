{
 "cells": [
  {
   "cell_type": "markdown",
   "metadata": {},
   "source": [
    "# Get annotations for annotated manuscripts\n",
    "\n",
    "Currently uses the CGType:General annotations as an indication that we should pull down the annotations. There is no PMID tag, so we have to pull the PMID from the text of the CGType:General tag.\n",
    "\n",
    "**Note**: In order to use this, you have to have a hypothes.is API token with permissions to access the relevant hypothes.is group. It should be included in a file called \"token\" as a single line."
   ]
  },
  {
   "cell_type": "code",
   "execution_count": 1,
   "metadata": {},
   "outputs": [],
   "source": [
    "import requests\n",
    "import yaml\n",
    "import os\n",
    "import re\n",
    "import json"
   ]
  },
  {
   "cell_type": "code",
   "execution_count": 2,
   "metadata": {},
   "outputs": [],
   "source": [
    "token = open('token').read().rstrip()\n",
    "api_endpoint = 'https://hypothes.is/api'\n",
    "group = 'DRL6xW1v'"
   ]
  },
  {
   "cell_type": "code",
   "execution_count": 3,
   "metadata": {},
   "outputs": [],
   "source": [
    "tagged_general_response = requests.post(api_endpoint + '/search',\n",
    "    data={\n",
    "        'group': group,\n",
    "        'sort': 'created',\n",
    "        'order': 'desc',\n",
    "        'limit': 50,\n",
    "        'tag': 'CGType:General'\n",
    "    },\n",
    "    headers={\n",
    "        'Authorization': 'Bearer %s'%token\n",
    "    }).json()\n",
    "annotations_tagged_general = tagged_general_response['rows']"
   ]
  },
  {
   "cell_type": "code",
   "execution_count": 4,
   "metadata": {},
   "outputs": [],
   "source": [
    "# print(yaml.dump(annotations_tagged_general))"
   ]
  },
  {
   "cell_type": "code",
   "execution_count": 5,
   "metadata": {},
   "outputs": [],
   "source": [
    "# [x['uri'] for x in annotations_tagged_general]"
   ]
  },
  {
   "cell_type": "code",
   "execution_count": 6,
   "metadata": {},
   "outputs": [],
   "source": [
    "def find_pmid(cg_general_annotation):\n",
    "    m = re.search(r'\\*\\*PMID\\*\\*: (\\d+)', cg_general_annotation['text'])\n",
    "    if m:\n",
    "        return m.group(1)\n",
    "    else:\n",
    "        return None"
   ]
  },
  {
   "cell_type": "code",
   "execution_count": 9,
   "metadata": {},
   "outputs": [],
   "source": [
    "os.makedirs('downloaded_data', exist_ok=True)\n",
    "for general_annotation in annotations_tagged_general:\n",
    "    pmid = find_pmid(general_annotation)\n",
    "    if pmid is not None:\n",
    "        manuscript_annotations_json = requests.post(api_endpoint + '/search',\n",
    "            data={\n",
    "                'group': group,\n",
    "                'sort': 'created',\n",
    "                'order': 'asc',\n",
    "                'limit': 80,\n",
    "                'uri': general_annotation['uri']\n",
    "            },\n",
    "            headers={\n",
    "                'Authorization': 'Bearer %s'%token\n",
    "            }).json()\n",
    "        with open(os.path.join('downloaded_data', 'PMID%s.json'%pmid), 'wt') as jsonf:\n",
    "            json.dump(manuscript_annotations_json, jsonf, indent=2)\n",
    "        with open(os.path.join('downloaded_data', 'PMID%s.yaml'%pmid), 'wt') as yamlf:\n",
    "            yaml.dump(manuscript_annotations_json, yamlf)"
   ]
  },
  {
   "cell_type": "code",
   "execution_count": null,
   "metadata": {},
   "outputs": [],
   "source": []
  }
 ],
 "metadata": {
  "kernelspec": {
   "display_name": "Python 3",
   "language": "python",
   "name": "python3"
  },
  "language_info": {
   "codemirror_mode": {
    "name": "ipython",
    "version": 3
   },
   "file_extension": ".py",
   "mimetype": "text/x-python",
   "name": "python",
   "nbconvert_exporter": "python",
   "pygments_lexer": "ipython3",
   "version": "3.7.5"
  }
 },
 "nbformat": 4,
 "nbformat_minor": 2
}
